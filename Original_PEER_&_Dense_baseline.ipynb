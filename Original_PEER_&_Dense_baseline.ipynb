{
 "cells": [
  {
   "cell_type": "markdown",
   "id": "249f9eb4-ce9a-4848-83d2-e85a127780f8",
   "metadata": {},
   "source": [
    "# Original PEER"
   ]
  },
  {
   "cell_type": "code",
   "execution_count": 9,
   "id": "d3a08be2-fa05-49d7-a1a0-a0b0718cea61",
   "metadata": {},
   "outputs": [],
   "source": [
    "from datasets import load_dataset\n",
    "from torch.utils.data import Dataset\n",
    "\n",
    "class PileDataset(Dataset):\n",
    "    def __init__(self, tokenizer, dataset_name='c4', split='train', max_length=512, num_samples=150_000):\n",
    "        self.tokenizer = tokenizer\n",
    "        self.max_length = max_length\n",
    "\n",
    "        # Load dataset depending on name\n",
    "        if dataset_name == 'c4':\n",
    "            self.data = load_dataset(\"c4\", \"en\", split=split, trust_remote_code=True)\n",
    "        elif dataset_name == 'wikitext':\n",
    "            self.data = load_dataset(\"wikitext\", \"wikitext-103-raw-v1\", split=split)\n",
    "        else:\n",
    "            raise ValueError(f\"Unsupported dataset: {dataset_name}\")\n",
    "\n",
    "        # Filter out empty text entries\n",
    "        self.data = self.data.filter(lambda x: x and len(x['text']) > 0)\n",
    "\n",
    "        # Limit the dataset size if needed\n",
    "        self.data = self.data.select(range(min(num_samples, len(self.data))))\n",
    "\n",
    "    def __len__(self):\n",
    "        return len(self.data)\n",
    "\n",
    "    def __getitem__(self, idx):\n",
    "        text = self.data[idx]['text']\n",
    "        encoding = self.tokenizer(\n",
    "            text,\n",
    "            truncation=True,\n",
    "            padding='max_length',\n",
    "            max_length=self.max_length,\n",
    "            return_tensors='pt'\n",
    "        )\n",
    "        input_ids = encoding['input_ids'].squeeze(0)\n",
    "        attention_mask = encoding['attention_mask'].squeeze(0)\n",
    "        return input_ids, attention_mask\n",
    "\n",
    "        "
   ]
  },
  {
   "cell_type": "code",
   "execution_count": 10,
   "id": "c3807ace-1144-4a1f-965a-6ea9595dbb84",
   "metadata": {},
   "outputs": [],
   "source": [
    "import torch\n",
    "import torch.nn as nn\n",
    "import torch.nn.functional as F\n",
    "from datasets import load_dataset\n",
    "from torch.utils.data import Dataset, DataLoader\n",
    "from transformers import GPT2Tokenizer\n",
    "import math\n",
    "from einops import einsum\n",
    "from tqdm import tqdm \n",
    "from einops.layers.torch import Rearrange\n",
    "\n",
    "def exists(v):\n",
    "    return v is not None\n",
    "\n",
    "def default(v, d):\n",
    "    return v if exists(v) else d\n",
    "\n",
    "class RMSNorm(nn.Module):\n",
    "    def __init__(self, dim):\n",
    "        super().__init__()\n",
    "        self.scale = dim ** 0.5\n",
    "        self.gamma = nn.Parameter(torch.ones(dim))\n",
    "\n",
    "    def forward(self, x):\n",
    "        return F.normalize(x, dim=-1) * self.scale * self.gamma\n",
    "\n",
    "class ProductKeyMemory(nn.Module):\n",
    "    # Constructor to initialize the product key memory module\n",
    "    def __init__(self, dim, num_keys):\n",
    "        super().__init__()\n",
    "        self.dim = dim  # The dimensionality of the feature space\n",
    "        self.num_keys = num_keys  # The number of keys (used for memory lookups)\n",
    "        \n",
    "        # Initialize keys as a learnable parameter with shape (num_keys, dim // 2)\n",
    "        # The dimensionality of the keys is halved (dim // 2)\n",
    "        self.keys = nn.Parameter(torch.randn(num_keys, dim // 2))\n",
    "        \n",
    "    # Forward pass to compute the dot product between query and keys\n",
    "    def forward(self, query):\n",
    "        # Reshape the query to have shape (batch_size, 2, -1)\n",
    "        # This assumes the query has the appropriate shape for splitting into two parts\n",
    "        query = query.view(query.shape[0], 2, -1)\n",
    "        \n",
    "        # Compute the dot product between the reshaped query and keys\n",
    "        # einsum is used for efficient batch-wise matrix multiplication\n",
    "        dots = torch.einsum('bkd,nd->bkn', query, self.keys)\n",
    "        \n",
    "        # Return the computed dot products reshaped to match the batch size\n",
    "        return dots.view(query.shape[0], -1)\n",
    "\n",
    "class PEER(nn.Module):\n",
    "    # Constructor for the PEER model with various customizable parameters\n",
    "    def __init__(\n",
    "        self,\n",
    "        dim,\n",
    "        *,\n",
    "        heads=8,\n",
    "        num_experts=1_000_000,\n",
    "        num_experts_per_head=16,\n",
    "        activation=nn.GELU,\n",
    "        dim_key=None,\n",
    "        product_key_topk=None,\n",
    "        separate_embed_per_head=False,\n",
    "        pre_rmsnorm=False,\n",
    "        dropout=0.\n",
    "    ):\n",
    "        super().__init__()\n",
    "\n",
    "        # If pre_rmsnorm is set to True, apply RMSNorm, else use the identity transformation\n",
    "        self.norm = RMSNorm(dim) if pre_rmsnorm else nn.Identity()\n",
    "\n",
    "        self.heads = heads  # Number of attention heads in the model\n",
    "        self.separate_embed_per_head = separate_embed_per_head  # Whether to use separate embeddings per head\n",
    "        self.num_experts = num_experts  # Total number of experts in the model\n",
    "\n",
    "        # Number of expert sets per head (1 if not separate, else equal to number of heads)\n",
    "        num_expert_sets = heads if separate_embed_per_head else 1\n",
    "\n",
    "        # Embedding layers for \"down\" and \"up\" weight transformations\n",
    "        self.weight_down_embed = nn.Embedding(num_experts * num_expert_sets, dim)\n",
    "        self.weight_up_embed = nn.Embedding(num_experts * num_expert_sets, dim)\n",
    "\n",
    "        # Activation function (GELU by default, can be replaced by others)\n",
    "        self.activation = activation()\n",
    "\n",
    "        # Ensure that num_experts is a perfect square (for product key memory structure)\n",
    "        assert (num_experts ** 0.5).is_integer(), '`num_experts` needs to be a square'\n",
    "        # Ensure that the feature dimension is divisible by 2 for key and query splitting\n",
    "        assert (dim % 2) == 0, 'feature dimension should be divisible by 2'\n",
    "\n",
    "        # Default the dim_key to half of the input feature dimension (for key-query splitting)\n",
    "        dim_key = default(dim_key, dim // 2)\n",
    "        self.num_keys = int(num_experts ** 0.5)  # The number of keys for memory (sqrt of num_experts)\n",
    "\n",
    "        # The transformation from input features to queries, with reshaping to support multi-head attention\n",
    "        self.to_queries = nn.Sequential(\n",
    "            nn.Linear(dim, dim_key * heads * 2, bias=False),  # Linear projection to query space\n",
    "            # Rearrange the tensor to separate the query into the 2 parts required for memory lookups\n",
    "            Rearrange('b n (p h d) -> p b n h d', p=2, h=heads)\n",
    "        )\n",
    "\n",
    "        # Default the top-k for product key memory lookup\n",
    "        self.product_key_topk = default(product_key_topk, num_experts_per_head)\n",
    "        self.num_experts_per_head = num_experts_per_head  # Number of experts per attention head\n",
    "\n",
    "        # Initialize the memory keys as learnable parameters\n",
    "        self.keys = nn.Parameter(torch.randn(heads, self.num_keys, 2, dim_key))\n",
    "\n",
    "        # Dropout layer to regularize the model\n",
    "        self.dropout = nn.Dropout(dropout)\n",
    "\n",
    "\n",
    "    def forward(self, x, attention_mask=None):\n",
    "        \"\"\"\n",
    "        einops notation\n",
    "        b - batch\n",
    "        n - sequence\n",
    "        d - dimension\n",
    "        h - heads\n",
    "        p - 2 for product key\n",
    "        k - number of keys\n",
    "        \"\"\"\n",
    "        \n",
    "        # Apply normalization to input features\n",
    "        x = self.norm(x)\n",
    "    \n",
    "        # Generate queries by applying a linear transformation and reshaping\n",
    "        queries = self.to_queries(x)\n",
    "    \n",
    "        if attention_mask is not None:\n",
    "            # Expand attention mask for broadcasting across p, h, d dimensions\n",
    "            expanded_mask = attention_mask[:, :, None, None]  # shape: (b, n, 1, 1)\n",
    "            expanded_mask = expanded_mask.permute(2, 0, 1, 3)  # shape: (1, b, n, 1)\n",
    "            # Apply attention mask to queries\n",
    "            queries = queries * expanded_mask  # queries shape: (2, b, n, h, d)\n",
    "    \n",
    "        # Compute similarity between queries and keys using einsum\n",
    "        sim = einsum(queries, self.keys, 'p b n h d, h k p d -> p b n h k')\n",
    "    \n",
    "        # Get top-k similarities and indices\n",
    "        (scores_x, scores_y), (indices_x, indices_y) = [s.topk(self.product_key_topk, dim=-1) for s in sim]\n",
    "    \n",
    "        # Combine the scores and indices for both x and y parts\n",
    "        all_scores = scores_x.unsqueeze(-1) + scores_y.unsqueeze(-2)\n",
    "        all_indices = indices_x.unsqueeze(-1) * self.num_keys + indices_y.unsqueeze(-2)\n",
    "    \n",
    "        # Flatten the scores and indices\n",
    "        all_scores = all_scores.view(*all_scores.shape[:-2], -1)\n",
    "        all_indices = all_indices.view(*all_indices.shape[:-2], -1)\n",
    "    \n",
    "        # Get the top-k experts' scores and indices\n",
    "        scores, pk_indices = all_scores.topk(self.num_experts_per_head, dim=-1)\n",
    "        indices = all_indices.gather(-1, pk_indices)\n",
    "    \n",
    "        # Adjust indices if separate embeddings per head are used\n",
    "        if self.separate_embed_per_head:\n",
    "            head_expert_offsets = torch.arange(self.heads, device=x.device) * self.num_experts\n",
    "            indices = indices + head_expert_offsets.view(1, 1, -1, 1)\n",
    "    \n",
    "        # Get embeddings for the down and up transformations\n",
    "        weights_down = self.weight_down_embed(pk_indices)\n",
    "        weights_up = self.weight_up_embed(pk_indices)\n",
    "    \n",
    "        # Apply down transformation to x and reshape\n",
    "        x = einsum(x, weights_down, 'b n d, b n h k d -> b n h k')\n",
    "        \n",
    "        # Apply activation and dropout\n",
    "        x = self.activation(x)\n",
    "        x = self.dropout(x)\n",
    "        \n",
    "        # Apply softmax to scores and element-wise multiplication\n",
    "        x = x * F.softmax(scores, dim=-1)\n",
    "        \n",
    "        # Apply up transformation to x\n",
    "        x = einsum(x, weights_up, 'b n h k, b n h k d -> b n d')\n",
    "    \n",
    "        return x\n",
    "\n",
    "class TransformerBlock(nn.Module):\n",
    "    def __init__(self, dim, num_heads, num_experts, num_experts_per_head, dropout=0.1):\n",
    "        super(TransformerBlock, self).__init__()\n",
    "        \n",
    "        # Multi-head attention layer\n",
    "        self.attention = nn.MultiheadAttention(dim, num_heads, batch_first=True)\n",
    "        self.norm1 = nn.LayerNorm(dim)  # Layer normalization after attention\n",
    "        self.norm2 = nn.LayerNorm(dim)  # Layer normalization after PEER output\n",
    "        \n",
    "        # Two PEER layers with the same configuration\n",
    "        self.peer1 = PEER(dim, heads=num_heads, num_experts=num_experts, num_experts_per_head=num_experts_per_head)\n",
    "        self.peer2 = PEER(dim, heads=num_heads, num_experts=num_experts, num_experts_per_head=num_experts_per_head)\n",
    "        \n",
    "        self.dropout = nn.Dropout(dropout)  # Dropout for regularization\n",
    "\n",
    "    def forward(self, x, attention_mask=None):\n",
    "        # Apply multi-head attention\n",
    "        attn_output, _ = self.attention(x, x, x, key_padding_mask=~attention_mask.bool() if attention_mask is not None else None)\n",
    "        \n",
    "        # Add attention output and apply dropout and normalization\n",
    "        x = x + self.dropout(attn_output)\n",
    "        x = self.norm1(x)\n",
    "        \n",
    "        # Apply PEER transformations\n",
    "        peer_output1 = self.peer1(x)\n",
    "        peer_output2 = self.peer2(F.gelu(peer_output1))  # GELU activation for second PEER output\n",
    "        \n",
    "        # Add second PEER output and apply dropout and normalization\n",
    "        x = x + self.dropout(peer_output2)\n",
    "        x = self.norm2(x)\n",
    "        \n",
    "        return x\n",
    "\n",
    "class PEERLanguageModel(nn.Module):\n",
    "    def __init__(self, vocab_size, dim, num_layers, num_heads, num_experts, top_k):\n",
    "        super().__init__()\n",
    "        \n",
    "        # Token embedding and position embedding layers\n",
    "        self.token_embedding = nn.Embedding(vocab_size, dim)\n",
    "        self.position_embedding = nn.Embedding(512, dim)\n",
    "        \n",
    "        # Stacked transformer layers\n",
    "        self.layers = nn.ModuleList([TransformerBlock(dim, num_heads, num_experts, top_k) for _ in range(num_layers)])\n",
    "        \n",
    "        self.layer_norm = nn.LayerNorm(dim)  # Final layer normalization\n",
    "        self.lm_head = nn.Linear(dim, vocab_size, bias=False)  # Output layer for vocabulary logits\n",
    "\n",
    "    def forward(self, x, attention_mask=None):\n",
    "        b, s = x.shape  # Get batch size and sequence length\n",
    "        positions = torch.arange(s, device=x.device).unsqueeze(0).expand(b, s)  # Position indices for each token\n",
    "        \n",
    "        # Apply token and position embeddings\n",
    "        x = self.token_embedding(x) + self.position_embedding(positions)\n",
    "        \n",
    "        # Pass through transformer layers\n",
    "        for layer in self.layers:\n",
    "            x = layer(x, attention_mask=attention_mask)\n",
    "        \n",
    "        # Final layer normalization\n",
    "        x = self.layer_norm(x)\n",
    "        \n",
    "        # Compute logits for each token in the vocabulary\n",
    "        logits = self.lm_head(x)\n",
    "        return logits\n"
   ]
  },
  {
   "cell_type": "code",
   "execution_count": 11,
   "id": "08f27f0a-0709-4bc6-b108-e8b1f548c8ed",
   "metadata": {},
   "outputs": [],
   "source": [
    "import torch\n",
    "import torch.nn.functional as F\n",
    "from torch.nn.utils import clip_grad_norm_\n",
    "from torch.cuda.amp import autocast, GradScaler\n",
    "from tqdm import tqdm\n",
    "import math\n",
    "from torch import distributed as dist\n",
    "\n",
    "\n",
    "def train(model, train_loader, optimizer, device, max_batches=None, show_progress=True, grad_accum_steps=1):\n",
    "    model.train()  # Set model to training mode\n",
    "    total_loss = 0  # Track total loss\n",
    "    batch_losses = []  # Track losses per batch\n",
    "\n",
    "    scaler = GradScaler()  # For mixed precision scaling\n",
    "    loss_fn = torch.nn.CrossEntropyLoss()  # Loss function\n",
    "\n",
    "    loop = enumerate(train_loader)  # Data loading loop\n",
    "    if show_progress:\n",
    "        loop = tqdm(loop, total=min(len(train_loader), max_batches or len(train_loader)),\n",
    "                    desc=\"Training\", dynamic_ncols=True, unit=\"batch\")  # Show progress bar\n",
    "\n",
    "    optimizer.zero_grad()  # Zero gradients before each update\n",
    "\n",
    "    for batch_idx, (batch) in loop:\n",
    "        if max_batches is not None and batch_idx >= max_batches:\n",
    "            break  # Stop if max_batches reached\n",
    "        input_ids, attention_mask = batch\n",
    "        input_ids = input_ids.to(device)  # Move inputs to the device\n",
    "        attention_mask = attention_mask.to(device)  # Move attention mask to device\n",
    "        labels = input_ids.clone()  # Labels are the same as inputs\n",
    "\n",
    "        with autocast():  # Enable mixed precision training\n",
    "            logits = model(input_ids, attention_mask=attention_mask)  # Model forward pass\n",
    "            loss = loss_fn(logits.view(-1, logits.size(-1)), labels.view(-1))  # Compute loss\n",
    "            loss = loss / grad_accum_steps  # Scale loss for gradient accumulation\n",
    "\n",
    "        scaler.scale(loss).backward()  # Backpropagate the loss\n",
    "\n",
    "        # Step optimizer after grad_accum_steps\n",
    "        if (batch_idx + 1) % grad_accum_steps == 0 or (max_batches and (batch_idx + 1) == max_batches):\n",
    "            clip_grad_norm_(model.parameters(), max_norm=1.0)  # Gradient clipping\n",
    "            scaler.step(optimizer)  # Step optimizer\n",
    "            scaler.update()  # Update scaler\n",
    "            optimizer.zero_grad()  # Zero gradients for the next step\n",
    "\n",
    "        batch_loss = loss.item() * grad_accum_steps  # Undo scaling for logging\n",
    "        batch_losses.append(batch_loss)  # Log batch loss\n",
    "        total_loss += batch_loss  # Accumulate total loss\n",
    "\n",
    "        if show_progress:\n",
    "            loop.set_postfix(loss=f\"{batch_loss:.4f}\")  # Update progress bar with loss\n",
    "\n",
    "    avg_loss = total_loss / max(len(batch_losses), 1)  # Compute average loss\n",
    "    return avg_loss, batch_losses  # Return average loss and batch losses\n",
    "\n",
    "\n",
    "def validate(model, val_loader, device, max_batches=None, show_progress=True):\n",
    "    model.eval()  # Set model to evaluation mode\n",
    "    total_loss = 0  # Track total loss\n",
    "    total_tokens = 0  # Track total number of tokens\n",
    "    batch_losses = []  # Track losses per batch\n",
    "\n",
    "    loop = val_loader  # Validation loop\n",
    "    if show_progress:\n",
    "        loop = tqdm(loop, total=min(len(val_loader), max_batches or len(val_loader)),\n",
    "                    desc=\"Validation\", dynamic_ncols=True, unit=\"batch\")  # Show progress bar\n",
    "\n",
    "    with torch.no_grad():  # Disable gradient tracking during validation\n",
    "        for batch_idx, (input_ids, attention_mask) in enumerate(loop):\n",
    "            if max_batches is not None and batch_idx >= max_batches:\n",
    "                break  # Stop if max_batches reached\n",
    "\n",
    "            input_ids = input_ids.to(device)  # Move inputs to the device\n",
    "            attention_mask = attention_mask.to(device)  # Move attention mask to device\n",
    "\n",
    "            with autocast():  # Enable mixed precision during validation\n",
    "                outputs = model(input_ids, attention_mask=attention_mask)  # Model forward pass\n",
    "                loss = F.cross_entropy(\n",
    "                    outputs.view(-1, outputs.size(-1)),\n",
    "                    input_ids.view(-1),\n",
    "                    ignore_index=0, reduction='sum'  # Compute loss (ignore padding tokens)\n",
    "                )\n",
    "\n",
    "            token_count = (input_ids != 0).sum().item()  # Count non-padding tokens\n",
    "            total_loss += loss.item()  # Accumulate total loss\n",
    "            total_tokens += token_count  # Accumulate total token count\n",
    "            batch_losses.append(loss.item() / token_count)  # Log loss per token\n",
    "\n",
    "    avg_loss = total_loss / total_tokens  # Compute average loss per token\n",
    "    perplexity = math.exp(avg_loss)  # Compute perplexity from loss\n",
    "    return avg_loss, perplexity, batch_losses  # Return average loss, perplexity, and batch losses\n",
    "\n"
   ]
  },
  {
   "cell_type": "code",
   "execution_count": 17,
   "id": "a83b7e85",
   "metadata": {},
   "outputs": [
    {
     "name": "stdout",
     "output_type": "stream",
     "text": [
      "GPU is available\n",
      "__CUDNN VERSION: 90100\n",
      "__Number CUDA Devices: 1\n",
      "__CUDA Device Total Memory [GB]: 16.747200512\n"
     ]
    },
    {
     "data": {
      "text/plain": [
       "[]"
      ]
     },
     "execution_count": 17,
     "metadata": {},
     "output_type": "execute_result"
    }
   ],
   "source": [
    "import torch\n",
    "import GPUtil\n",
    "\n",
    "if torch.cuda.is_available():\n",
    "    print('GPU is available')\n",
    "    print('__CUDNN VERSION:', torch.backends.cudnn.version())\n",
    "    print('__Number CUDA Devices:', torch.cuda.device_count())\n",
    "    print('__CUDA Device Total Memory [GB]:',torch.cuda.get_device_properties(0).total_memory/1e9)\n",
    "else:\n",
    "    print('GPU is not available')\n",
    "\n",
    "GPUtil.getAvailable()"
   ]
  },
  {
   "cell_type": "code",
   "execution_count": 13,
   "id": "5fe714ff-2892-40b5-ac89-fd32b6ccd832",
   "metadata": {},
   "outputs": [
    {
     "name": "stdout",
     "output_type": "stream",
     "text": [
      "Running in single GPU or notebook mode\n"
     ]
    }
   ],
   "source": [
    "import os\n",
    "os.environ[\"PYTORCH_CUDA_ALLOC_CONF\"] = \"max_split_size_mb:64\"\n",
    "\n",
    "import torch\n",
    "import torch.distributed as dist\n",
    "from torch.nn.parallel import DistributedDataParallel as DDP\n",
    "from torch.utils.data.distributed import DistributedSampler\n",
    "from torch.utils.data import DataLoader, Subset\n",
    "from transformers import GPT2Tokenizer\n",
    "import matplotlib.pyplot as plt\n",
    "from tqdm import tqdm\n",
    "import time\n",
    "\n",
    "def smooth_curve(data, window=100):\n",
    "    \"\"\"Simple moving average.\"\"\"\n",
    "    data = np.array(data)\n",
    "    if len(data) < window:\n",
    "        return data\n",
    "    return np.convolve(data, np.ones(window) / window, mode='valid')\n",
    "\n",
    "def format_k(x, _):\n",
    "    \"\"\"Tick format for '10k' etc.\"\"\"\n",
    "    return f'{int(x/1000)}k' if x >= 1000 else str(int(x))\n",
    "\n",
    "def plot_epoch_metrics(train_losses, val_losses, val_perplexities, save_dir, dataset_name='unknown'):\n",
    "    import matplotlib.pyplot as plt\n",
    "    import os\n",
    "\n",
    "    os.makedirs(save_dir, exist_ok=True)\n",
    "    epochs = list(range(1, len(train_losses) + 1))\n",
    "\n",
    "    # --- Loss Plot ---\n",
    "    plt.figure(figsize=(8, 5))\n",
    "    plt.plot(epochs, train_losses, label='Train Loss', marker='o')\n",
    "    plt.plot(epochs, val_losses, label='Val Loss', marker='o')\n",
    "    plt.xlabel('Epoch')\n",
    "    plt.ylabel('Loss')\n",
    "    plt.title(f\"Epoch Loss — {dataset_name}\")\n",
    "    plt.legend()\n",
    "    plt.grid(True, linestyle='--', alpha=0.4)\n",
    "    plt.savefig(os.path.join(save_dir, f'epoch_loss_{dataset_name}.png'))\n",
    "    plt.close()\n",
    "\n",
    "    # --- Perplexity Plot ---\n",
    "    plt.figure(figsize=(8, 5))\n",
    "    plt.plot(epochs, val_perplexities, label='Val Perplexity', marker='o', color='purple')\n",
    "    plt.xlabel('Epoch')\n",
    "    plt.ylabel('Perplexity')\n",
    "    plt.title(f\"Epoch Perplexity — {dataset_name}\")\n",
    "    plt.legend()\n",
    "    plt.grid(True, linestyle='--', alpha=0.4)\n",
    "    plt.savefig(os.path.join(save_dir, f'epoch_perplexity_{dataset_name}.png'))\n",
    "    plt.close()\n",
    "\n",
    "\n",
    "def is_distributed_env():\n",
    "    return (\n",
    "        dist.is_available()\n",
    "        and dist.is_nccl_available()\n",
    "        and \"RANK\" in os.environ\n",
    "        and \"LOCAL_RANK\" in os.environ\n",
    "        and \"WORLD_SIZE\" in os.environ\n",
    "    )\n",
    "\n",
    "if is_distributed_env():\n",
    "    dist.init_process_group(backend=\"nccl\")\n",
    "    local_rank = int(os.environ[\"LOCAL_RANK\"])\n",
    "    torch.cuda.set_device(local_rank)\n",
    "    device = torch.device(\"cuda\", local_rank)\n",
    "else:\n",
    "    print(\"Running in single GPU or notebook mode\")\n",
    "    local_rank = 0\n",
    "    device = torch.device(\"cuda\" if torch.cuda.is_available() else \"cpu\")"
   ]
  },
  {
   "cell_type": "code",
   "execution_count": 14,
   "id": "8adedb34-363b-430a-bab7-38eb7c1120eb",
   "metadata": {},
   "outputs": [
    {
     "name": "stdout",
     "output_type": "stream",
     "text": [
      "Skipping DDP — running on single GPU or CPU\n"
     ]
    }
   ],
   "source": [
    "#   Hyperparameters + Debug Configs\n",
    "vocab_size = 50257\n",
    "dim = 256\n",
    "num_layers = 4\n",
    "num_heads = 4\n",
    "num_experts = 128*128\n",
    "top_k = 8\n",
    "batch_size = 4 \n",
    "grad_accum_steps = 4  #####\n",
    "num_epochs = 20\n",
    "learning_rate = 1e-4\n",
    "\n",
    "enable_debug_mode = True\n",
    "subset_size = 50000       #   Use a smaller subset of training data\n",
    "max_batches = 5000 if enable_debug_mode else None #   Stop each epoch early for faster debug\n",
    "\n",
    "#   Model and tokenizer\n",
    "tokenizer = GPT2Tokenizer.from_pretrained('gpt2')\n",
    "tokenizer.pad_token = tokenizer.eos_token\n",
    "model = PEERLanguageModel(vocab_size, dim, num_layers, num_heads, num_experts, top_k).to(device)\n",
    "\n",
    "#   Wrap model in DDP (if applicable)\n",
    "if dist.is_initialized():\n",
    "    local_rank = int(os.environ[\"LOCAL_RANK\"])\n",
    "    model = DDP(model, device_ids=[local_rank], output_device=local_rank)\n",
    "else:\n",
    "    print(\"Skipping DDP — running on single GPU or CPU\")\n",
    "\n"
   ]
  },
  {
   "cell_type": "code",
   "execution_count": 15,
   "id": "df0b9cbe",
   "metadata": {},
   "outputs": [
    {
     "name": "stdout",
     "output_type": "stream",
     "text": [
      "Number of parameters: 97174528\n"
     ]
    }
   ],
   "source": [
    "# Print info\n",
    "if local_rank == 0:\n",
    "    print(\"Number of parameters:\", sum(p.numel() for p in model.parameters()))\n",
    "    os.makedirs('plots', exist_ok=True)\n",
    "\n",
    "# Finalized Training Loop\n",
    "def run(enable_debug_mode = False, data = 'wiki'):\n",
    "\n",
    "    best_val_loss = float('inf')\n",
    "    patience = 2  # how many bad epochs to wait before stopping\n",
    "    min_delta = 0.01  # required improvement (e.g., 1% of loss)\n",
    "    bad_epochs = 0\n",
    "    \n",
    "    #   Load dataset \n",
    "    if data == 'wiki':\n",
    "        train_dataset = PileDataset(tokenizer, dataset_name='wikitext', split='train', num_samples=100_000)\n",
    "        val_dataset = PileDataset(tokenizer, dataset_name='wikitext',split='validation', num_samples=5_000)\n",
    "    elif data == 'c4':\n",
    "        train_dataset = PileDataset(tokenizer, dataset_name='c4', split='train', num_samples=150_000)\n",
    "        val_dataset = PileDataset(tokenizer, dataset_name='c4',split='validation', num_samples=10_000)\n",
    "    \n",
    "    if enable_debug_mode:\n",
    "        train_dataset = Subset(train_dataset, list(range(min(subset_size, len(train_dataset)))))\n",
    "    \n",
    "    #   Create samplers and loaders\n",
    "    if is_distributed_env():\n",
    "        train_sampler = DistributedSampler(train_dataset)\n",
    "        shuffle = False\n",
    "    else:\n",
    "        train_sampler = None\n",
    "        shuffle = True\n",
    "    \n",
    "    train_loader = DataLoader(train_dataset, batch_size=batch_size, sampler=train_sampler, shuffle=shuffle)\n",
    "    val_loader = DataLoader(val_dataset, batch_size=batch_size, shuffle=False)\n",
    "    \n",
    "    # Optimizer\n",
    "    optimizer = torch.optim.Adam(model.parameters(), lr=learning_rate, betas=(0.9, 0.95), eps=1e-8)\n",
    "\n",
    "\n",
    "    if enable_debug_mode:\n",
    "        max_sample = max_batches\n",
    "    else:\n",
    "        max_sample = None\n",
    "\n",
    "    \n",
    "    best_val_loss = float('inf')\n",
    "    start_time = time.time()\n",
    "    \n",
    "    train_epoch_losses = []\n",
    "    val_epoch_losses = []\n",
    "    val_epoch_ppls = []\n",
    "    \n",
    "    for epoch in range(num_epochs):\n",
    "        if train_sampler is not None:\n",
    "            train_sampler.set_epoch(epoch)\n",
    "    \n",
    "        if local_rank == 0:\n",
    "            print(f\"\\nEpoch {epoch+1}/{num_epochs}\")\n",
    "        # start_time = time.time()\n",
    "    \n",
    "        #   Call updated train() function\n",
    "        train_loss, train_batch_losses = train(\n",
    "            model, train_loader, optimizer, device,\n",
    "            max_batches = max_sample,\n",
    "            show_progress=True,\n",
    "            grad_accum_steps=4\n",
    "        )\n",
    "        \n",
    "        #   Validation\n",
    "        if local_rank == 0:\n",
    "            print(f\"Epoch {epoch+1}\") \n",
    "            print(f\"Train Loss: {train_loss:.4f}\")\n",
    "            print(\"Validating...\")\n",
    "    \n",
    "            with torch.no_grad():\n",
    "                val_loss, val_perplexity, val_batch_losses = validate(model, val_loader, device)\n",
    "    \n",
    "            print(f\"Val Loss: {val_loss:.4f}, Perplexity: {val_perplexity:.4f}\")\n",
    "\n",
    "        train_epoch_losses.append(train_loss)\n",
    "        val_epoch_losses.append(val_loss)\n",
    "        val_epoch_ppls.append(val_perplexity)\n",
    "\n",
    "\n",
    "        # Check Validation Improvements\n",
    "        if val_loss < best_val_loss - min_delta:\n",
    "            best_val_loss = val_loss\n",
    "            bad_epochs = 0  # reset\n",
    "            torch.save(model.state_dict(), 'best_peer_language_model.pth')\n",
    "        else:\n",
    "            bad_epochs += 1\n",
    "            if local_rank == 0:\n",
    "                print(f\"→ No significant improvement. Bad epochs: {bad_epochs}/{patience}\")\n",
    "        \n",
    "            if bad_epochs >= patience:\n",
    "                if local_rank == 0:\n",
    "                    print(\"Early stopping triggered.\")\n",
    "                break\n",
    "\n",
    "    plot_epoch_metrics(\n",
    "        train_losses=train_epoch_losses,\n",
    "        val_losses=val_epoch_losses,\n",
    "        val_perplexities=val_epoch_ppls,\n",
    "        save_dir='baseline_epoch_plots',\n",
    "        dataset_name=data\n",
    "    )\n",
    "        \n",
    "    end_time = time.time()  # End timer\n",
    "    elapsed = end_time - start_time\n",
    "    mins, secs = divmod(elapsed, 60)\n",
    "    print(f\"\\n Total Training + Validation Time: {int(mins)} min {int(secs)} sec\")\n",
    "    \n",
    "    # Final model save\n",
    "    if local_rank == 0:\n",
    "        torch.save(model.state_dict(), 'final_peer_language_model.pth')\n",
    "    \n",
    "    # Cleanup (only if distributed)\n",
    "    if is_distributed_env():\n",
    "        dist.destroy_process_group()\n"
   ]
  },
  {
   "cell_type": "code",
   "execution_count": null,
   "id": "242dcd6a-5090-4fb4-9116-bc7fe671faf1",
   "metadata": {},
   "outputs": [],
   "source": []
  },
  {
   "cell_type": "code",
   "execution_count": 8,
   "id": "a91df0b7-a856-4f1f-b638-513704796cb5",
   "metadata": {},
   "outputs": [
    {
     "name": "stderr",
     "output_type": "stream",
     "text": [
      "/home/jenny/.cache/huggingface/modules/datasets_modules/datasets/c4/584d57ebe81c209b6c7f31727066d2c4b4bba37cb7092cdd83083d5ec11207db/c4.py:53: FutureWarning: Dataset 'c4' is deprecated and will be deleted. Use 'allenai/c4' instead.\n",
      "  warnings.warn(\n"
     ]
    },
    {
     "data": {
      "application/vnd.jupyter.widget-view+json": {
       "model_id": "0fd917cb09af4dfab89d45b4eb3e8d4e",
       "version_major": 2,
       "version_minor": 0
      },
      "text/plain": [
       "Loading dataset shards:   0%|          | 0/1654 [00:00<?, ?it/s]"
      ]
     },
     "metadata": {},
     "output_type": "display_data"
    },
    {
     "name": "stderr",
     "output_type": "stream",
     "text": [
      "/tmp/ipykernel_77184/3862891165.py:15: FutureWarning: `torch.cuda.amp.GradScaler(args...)` is deprecated. Please use `torch.amp.GradScaler('cuda', args...)` instead.\n",
      "  scaler = GradScaler()\n"
     ]
    },
    {
     "name": "stdout",
     "output_type": "stream",
     "text": [
      "\n",
      "Epoch 1/10\n"
     ]
    },
    {
     "name": "stderr",
     "output_type": "stream",
     "text": [
      "Training:   0%|                                                                                              | 0/1000 [00:00<?, ?batch/s]/tmp/ipykernel_77184/3862891165.py:33: FutureWarning: `torch.cuda.amp.autocast(args...)` is deprecated. Please use `torch.amp.autocast('cuda', args...)` instead.\n",
      "  with autocast():  # mixed precision context\n",
      "Training: 100%|██████████████████████████████████████████████████████████████████████| 1000/1000 [00:41<00:00, 24.34batch/s, loss=9.0444]\n"
     ]
    },
    {
     "name": "stdout",
     "output_type": "stream",
     "text": [
      "Epoch 1\n",
      "Train Loss: 10.1266\n",
      "Validating...\n"
     ]
    },
    {
     "name": "stderr",
     "output_type": "stream",
     "text": [
      "Validation:   0%|                                                                                            | 0/2500 [00:00<?, ?batch/s]/tmp/ipykernel_77184/3862891165.py:77: FutureWarning: `torch.cuda.amp.autocast(args...)` is deprecated. Please use `torch.amp.autocast('cuda', args...)` instead.\n",
      "  with autocast():  # AMP context\n",
      "Validation: 100%|█████████████████████████████████████████████████████████████████████████████████| 2500/2500 [00:52<00:00, 47.54batch/s]\n"
     ]
    },
    {
     "name": "stdout",
     "output_type": "stream",
     "text": [
      "Val Loss: 8.8647, Perplexity: 7077.8799\n",
      "\n",
      "Epoch 2/10\n"
     ]
    },
    {
     "name": "stderr",
     "output_type": "stream",
     "text": [
      "Training: 100%|██████████████████████████████████████████████████████████████████████| 1000/1000 [01:05<00:00, 15.31batch/s, loss=4.5142]\n"
     ]
    },
    {
     "name": "stdout",
     "output_type": "stream",
     "text": [
      "Epoch 2\n",
      "Train Loss: 8.4312\n",
      "Validating...\n"
     ]
    },
    {
     "name": "stderr",
     "output_type": "stream",
     "text": [
      "Validation: 100%|█████████████████████████████████████████████████████████████████████████████████| 2500/2500 [01:05<00:00, 38.22batch/s]\n"
     ]
    },
    {
     "name": "stdout",
     "output_type": "stream",
     "text": [
      "Val Loss: 6.3101, Perplexity: 550.1128\n",
      "\n",
      "Epoch 3/10\n"
     ]
    },
    {
     "name": "stderr",
     "output_type": "stream",
     "text": [
      "Training: 100%|██████████████████████████████████████████████████████████████████████| 1000/1000 [00:56<00:00, 17.82batch/s, loss=4.8221]\n"
     ]
    },
    {
     "name": "stdout",
     "output_type": "stream",
     "text": [
      "Epoch 3\n",
      "Train Loss: 5.4660\n",
      "Validating...\n"
     ]
    },
    {
     "name": "stderr",
     "output_type": "stream",
     "text": [
      "Validation: 100%|█████████████████████████████████████████████████████████████████████████████████| 2500/2500 [01:00<00:00, 41.37batch/s]\n"
     ]
    },
    {
     "name": "stdout",
     "output_type": "stream",
     "text": [
      "Val Loss: 5.1052, Perplexity: 164.8822\n",
      "\n",
      "Epoch 4/10\n"
     ]
    },
    {
     "name": "stderr",
     "output_type": "stream",
     "text": [
      "Training: 100%|██████████████████████████████████████████████████████████████████████| 1000/1000 [01:05<00:00, 15.18batch/s, loss=2.9720]\n"
     ]
    },
    {
     "name": "stdout",
     "output_type": "stream",
     "text": [
      "Epoch 4\n",
      "Train Loss: 5.0593\n",
      "Validating...\n"
     ]
    },
    {
     "name": "stderr",
     "output_type": "stream",
     "text": [
      "Validation: 100%|█████████████████████████████████████████████████████████████████████████████████| 2500/2500 [01:07<00:00, 36.87batch/s]\n"
     ]
    },
    {
     "name": "stdout",
     "output_type": "stream",
     "text": [
      "Val Loss: 5.0889, Perplexity: 162.2176\n",
      "\n",
      "Epoch 5/10\n"
     ]
    },
    {
     "name": "stderr",
     "output_type": "stream",
     "text": [
      "Training: 100%|██████████████████████████████████████████████████████████████████████| 1000/1000 [00:56<00:00, 17.76batch/s, loss=5.6259]\n"
     ]
    },
    {
     "name": "stdout",
     "output_type": "stream",
     "text": [
      "Epoch 5\n",
      "Train Loss: 4.9546\n",
      "Validating...\n"
     ]
    },
    {
     "name": "stderr",
     "output_type": "stream",
     "text": [
      "Validation: 100%|█████████████████████████████████████████████████████████████████████████████████| 2500/2500 [00:58<00:00, 42.56batch/s]\n"
     ]
    },
    {
     "name": "stdout",
     "output_type": "stream",
     "text": [
      "Val Loss: 5.0611, Perplexity: 157.7680\n",
      "\n",
      "Epoch 6/10\n"
     ]
    },
    {
     "name": "stderr",
     "output_type": "stream",
     "text": [
      "Training: 100%|██████████████████████████████████████████████████████████████████████| 1000/1000 [01:05<00:00, 15.19batch/s, loss=5.7878]\n"
     ]
    },
    {
     "name": "stdout",
     "output_type": "stream",
     "text": [
      "Epoch 6\n",
      "Train Loss: 5.0282\n",
      "Validating...\n"
     ]
    },
    {
     "name": "stderr",
     "output_type": "stream",
     "text": [
      "Validation: 100%|█████████████████████████████████████████████████████████████████████████████████| 2500/2500 [01:09<00:00, 36.20batch/s]\n"
     ]
    },
    {
     "name": "stdout",
     "output_type": "stream",
     "text": [
      "Val Loss: 5.0623, Perplexity: 157.9554\n",
      "→ No significant improvement. Bad epochs: 1/2\n",
      "\n",
      "Epoch 7/10\n"
     ]
    },
    {
     "name": "stderr",
     "output_type": "stream",
     "text": [
      "Training: 100%|██████████████████████████████████████████████████████████████████████| 1000/1000 [00:56<00:00, 17.74batch/s, loss=5.5514]\n"
     ]
    },
    {
     "name": "stdout",
     "output_type": "stream",
     "text": [
      "Epoch 7\n",
      "Train Loss: 5.0519\n",
      "Validating...\n"
     ]
    },
    {
     "name": "stderr",
     "output_type": "stream",
     "text": [
      "Validation: 100%|█████████████████████████████████████████████████████████████████████████████████| 2500/2500 [00:58<00:00, 42.70batch/s]\n"
     ]
    },
    {
     "name": "stdout",
     "output_type": "stream",
     "text": [
      "Val Loss: 5.0631, Perplexity: 158.0818\n",
      "→ No significant improvement. Bad epochs: 2/2\n",
      "Early stopping triggered.\n",
      "\n",
      " Total Training + Validation Time: 14 min 1 sec\n"
     ]
    }
   ],
   "source": [
    "run('c4')"
   ]
  },
  {
   "cell_type": "code",
   "execution_count": null,
   "id": "4cb7e8e1-1193-4bcd-9fe5-0979809768fa",
   "metadata": {},
   "outputs": [],
   "source": []
  },
  {
   "cell_type": "code",
   "execution_count": null,
   "id": "77dc8c3c-ebc7-4c9b-9e10-bbb591122d54",
   "metadata": {},
   "outputs": [],
   "source": []
  },
  {
   "cell_type": "code",
   "execution_count": null,
   "id": "a1457151-2eb0-4192-a622-aaec79f8b8a6",
   "metadata": {},
   "outputs": [],
   "source": []
  },
  {
   "cell_type": "code",
   "execution_count": null,
   "id": "f3549625-fca3-4f81-9ade-ff190c72bec2",
   "metadata": {},
   "outputs": [],
   "source": []
  },
  {
   "cell_type": "code",
   "execution_count": null,
   "id": "0fe9d857-d6e2-46e2-ba7e-861a63bc163b",
   "metadata": {},
   "outputs": [],
   "source": []
  },
  {
   "cell_type": "markdown",
   "id": "18e93619-3f56-4ca7-8e2b-079a8cfeaaaa",
   "metadata": {},
   "source": [
    "# Dense Transfromer Baseline"
   ]
  },
  {
   "cell_type": "code",
   "execution_count": 1,
   "id": "0d9ad932-a564-4c00-a394-6337ca2840e2",
   "metadata": {},
   "outputs": [],
   "source": [
    "import os\n",
    "import math\n",
    "import torch\n",
    "import torch.nn as nn\n",
    "import torch.nn.functional as F\n",
    "from torch.utils.data import DataLoader\n",
    "from transformers import GPT2Tokenizer\n",
    "from tqdm import tqdm\n",
    "import matplotlib.pyplot as plt\n",
    "import pandas as pd\n",
    "from datasets import load_dataset"
   ]
  },
  {
   "cell_type": "code",
   "execution_count": null,
   "id": "107a249a-fb44-409f-8d37-2515fae11cad",
   "metadata": {},
   "outputs": [],
   "source": [
    "torch.cuda.empty_cache()"
   ]
  },
  {
   "cell_type": "code",
   "execution_count": 2,
   "id": "f569ccc3-293c-4352-8b93-4c9ff00d34b9",
   "metadata": {},
   "outputs": [],
   "source": [
    "# ---- Dataset Definition ---- #\n",
    "class PileDataset(torch.utils.data.Dataset):\n",
    "    def __init__(self, tokenizer, dataset_name='wikitext', split='train', max_length=128, num_samples=None):\n",
    "        self.tokenizer = tokenizer\n",
    "        self.max_length = max_length\n",
    "        if dataset_name == 'wikitext':\n",
    "            raw = load_dataset(\"wikitext\", \"wikitext-103-raw-v1\", split=split)\n",
    "            self.texts = raw[\"text\"]\n",
    "        elif dataset_name == 'c4':\n",
    "            raw = load_dataset(\"c4\", \"en\", split=split, trust_remote_code=True)\n",
    "            self.texts = raw[\"text\"]\n",
    "        else:\n",
    "            raise ValueError(f\"Unsupported dataset: {dataset_name}\")\n",
    "        self.texts = [t for t in self.texts if t and len(t.strip()) > 0]\n",
    "        if num_samples:\n",
    "            self.texts = self.texts[:min(num_samples, len(self.texts))]\n",
    "\n",
    "    def __len__(self):\n",
    "        return len(self.texts)\n",
    "\n",
    "    def __getitem__(self, idx):\n",
    "        encoded = self.tokenizer(self.texts[idx], padding=\"max_length\", truncation=True, max_length=self.max_length, return_tensors=\"pt\")\n",
    "        return encoded[\"input_ids\"].squeeze(0), encoded[\"attention_mask\"].squeeze(0)\n"
   ]
  },
  {
   "cell_type": "code",
   "execution_count": 3,
   "id": "b29e2eaf-2b20-4d5f-96ba-50586bd3ec33",
   "metadata": {},
   "outputs": [],
   "source": [
    "# ---- Model Definition ---- #\n",
    "class DenseTransformerBlock(nn.Module):\n",
    "    def __init__(self, dim, num_heads, hidden_dim, dropout=0.1):\n",
    "        super().__init__()\n",
    "        self.attn = nn.MultiheadAttention(embed_dim=dim, num_heads=num_heads, batch_first=True)\n",
    "        self.norm1 = nn.LayerNorm(dim)\n",
    "        self.norm2 = nn.LayerNorm(dim)\n",
    "        self.ffn = nn.Sequential(\n",
    "            nn.Linear(dim, hidden_dim),\n",
    "            nn.GELU(),\n",
    "            nn.Dropout(dropout),\n",
    "            nn.Linear(hidden_dim, dim),\n",
    "            nn.Dropout(dropout)\n",
    "        )\n",
    "\n",
    "    def forward(self, x):\n",
    "        b, s, _ = x.size()\n",
    "        mask = torch.triu(torch.ones(s, s, device=x.device), diagonal=1).bool()\n",
    "        attn_out, _ = self.attn(x, x, x, attn_mask=mask)\n",
    "        x = self.norm1(x + attn_out)\n",
    "        x = self.norm2(x + self.ffn(x))\n",
    "        return x\n",
    "\n",
    "class DenseLanguageModel(nn.Module):\n",
    "    def __init__(self, vocab_size, dim=128, num_layers=1, num_heads=8, hidden_dim=512, max_seq_len=512, dropout=0.3):\n",
    "        super().__init__()\n",
    "        self.token_embed = nn.Embedding(vocab_size, dim)\n",
    "        self.pos_embed = nn.Embedding(max_seq_len, dim)\n",
    "        self.dropout = nn.Dropout(dropout)\n",
    "\n",
    "        self.blocks = nn.ModuleList([\n",
    "            DenseTransformerBlock(dim, num_heads, hidden_dim, dropout=dropout) for _ in range(num_layers)\n",
    "        ])\n",
    "        self.norm = nn.LayerNorm(dim)\n",
    "        self.lm_head = nn.Linear(dim, vocab_size)\n",
    "\n",
    "    def forward(self, input_ids):\n",
    "        b, s = input_ids.shape\n",
    "        pos = torch.arange(s, device=input_ids.device).unsqueeze(0).expand(b, s)\n",
    "        x = self.token_embed(input_ids) + self.pos_embed(pos)\n",
    "        x = self.dropout(x)\n",
    "        for block in self.blocks:\n",
    "            x = block(x)\n",
    "        x = self.norm(x)\n",
    "        return self.lm_head(x)"
   ]
  },
  {
   "cell_type": "code",
   "execution_count": 4,
   "id": "21c03541-a458-467d-ae19-29dd2ee914da",
   "metadata": {},
   "outputs": [],
   "source": [
    "# ---- Train & Validation ---- #\n",
    "def train_dense(model, dataloader, optimizer, device, num_epochs=4, grad_accum_steps=4, max_batches=None):\n",
    "    model.train()\n",
    "    # loss_fn = nn.CrossEntropyLoss()\n",
    "    loss_fn = nn.CrossEntropyLoss(ignore_index=tokenizer.pad_token_id)\n",
    "    scaler = torch.cuda.amp.GradScaler()\n",
    "    \n",
    "    epoch_avg_losses = []\n",
    "\n",
    "    for epoch in range(num_epochs):\n",
    "        total_loss = 0\n",
    "        total_tokens = 0\n",
    "        loop = tqdm(enumerate(dataloader), total=min(len(dataloader), max_batches or len(dataloader)),\n",
    "                    desc=f\"Epoch {epoch+1}\", dynamic_ncols=True, unit=\"batch\")\n",
    "        optimizer.zero_grad()\n",
    "        \n",
    "        for step, (input_ids, attention_mask) in loop:\n",
    "            if max_batches and step >= max_batches:\n",
    "                break\n",
    "        \n",
    "            input_ids = input_ids.to(device)\n",
    "            labels = input_ids.clone().to(device)\n",
    "        \n",
    "            logits = model(input_ids)\n",
    "            loss = loss_fn(logits.view(-1, logits.size(-1)), labels.view(-1))\n",
    "            loss = loss / grad_accum_steps\n",
    "            loss.backward()\n",
    "        \n",
    "            if (step + 1) % grad_accum_steps == 0 or (max_batches and step + 1 == max_batches):\n",
    "                torch.nn.utils.clip_grad_norm_(model.parameters(), max_norm=1.0)\n",
    "                optimizer.step()\n",
    "                optimizer.zero_grad()\n",
    "\n",
    "            token_count = (input_ids != 0).sum().item()\n",
    "            total_loss += loss.item() * grad_accum_steps\n",
    "            total_tokens += token_count\n",
    "        epoch_avg_losses.append(total_loss / total_tokens)\n",
    "    return epoch_avg_losses\n",
    "\n",
    "\n",
    "def validate_dense(model, dataloader, device, max_batches=None):\n",
    "    model.eval()\n",
    "    total_loss = 0\n",
    "    total_tokens = 0\n",
    "    losses = []\n",
    "\n",
    "    with torch.no_grad():\n",
    "        for step, (input_ids, attention_mask) in enumerate(tqdm(dataloader, desc=\"Validating\", dynamic_ncols=True)):\n",
    "            if max_batches and step >= max_batches:\n",
    "                break\n",
    "            input_ids = input_ids.to(device)\n",
    "            with torch.no_grad():\n",
    "                logits = model(input_ids)\n",
    "                loss = F.cross_entropy(\n",
    "                            logits.view(-1, logits.size(-1)),\n",
    "                            input_ids.view(-1),\n",
    "                            reduction='sum',\n",
    "                            ignore_index=tokenizer.pad_token_id\n",
    "                        )\n",
    "\n",
    "            total_loss += loss.item()\n",
    "            total_tokens += (input_ids != 0).sum().item()\n",
    "            losses.append(loss.item() / max((input_ids != 0).sum().item(), 1))\n",
    "    avg_loss = total_loss / total_tokens\n",
    "    perplexity = math.exp(avg_loss)\n",
    "    return avg_loss, perplexity, losses\n",
    "\n",
    "def plot_loss_curves(all_losses, save_path=None):\n",
    "    for epoch_idx, losses in enumerate(all_losses):\n",
    "        smoothed = pd.Series(losses).rolling(window=10, min_periods=1).mean()\n",
    "        plt.plot(smoothed, label=f'Epoch {epoch_idx+1}')\n",
    "    plt.xlabel(\"Batch\")\n",
    "    plt.ylabel(\"Loss\")\n",
    "    plt.title(\"Training Loss per Epoch\")\n",
    "    plt.legend()\n",
    "    if save_path:\n",
    "        os.makedirs(os.path.dirname(save_path), exist_ok=True)\n",
    "        plt.savefig(save_path)\n",
    "    plt.show()\n",
    "    plt.close()\n"
   ]
  },
  {
   "cell_type": "code",
   "execution_count": 6,
   "id": "30145c73-88ca-44b6-ae3d-b2ee2ebc68a9",
   "metadata": {},
   "outputs": [
    {
     "name": "stdout",
     "output_type": "stream",
     "text": [
      "Device: cuda\n",
      "PAD token id: 50256\n"
     ]
    }
   ],
   "source": [
    "# ---- Setup ----\n",
    "import torch\n",
    "device = torch.device(\"cuda\" if torch.cuda.is_available() else \"cpu\")\n",
    "print(\"Device:\", device)\n",
    "\n",
    "# ---- Tokenizer ----\n",
    "from transformers import GPT2Tokenizer\n",
    "tokenizer = GPT2Tokenizer.from_pretrained('gpt2')\n",
    "tokenizer.pad_token = tokenizer.eos_token\n",
    "\n",
    "print(\"PAD token id:\", tokenizer.pad_token_id)\n",
    "\n",
    "\n",
    "# ---- Dataset Selection ----\n",
    "dataset_choice = 'wikitext'  # or 'c4'\n",
    "train_dataset = PileDataset(tokenizer, dataset_name=dataset_choice, split='train', num_samples=100000)\n",
    "val_dataset = PileDataset(tokenizer, dataset_name=dataset_choice, split='validation', num_samples=10000)\n",
    "\n",
    "train_loader = DataLoader(train_dataset, batch_size=2, shuffle=True)\n",
    "val_loader = DataLoader(val_dataset, batch_size=2, shuffle=False)\n",
    "\n",
    "# ---- Model ----\n",
    "model = DenseLanguageModel(\n",
    "    vocab_size=tokenizer.vocab_size,\n",
    "    dim=256,\n",
    "    num_layers=8,\n",
    "    num_heads=4,\n",
    "    hidden_dim = 1024,\n",
    "    max_seq_len=512\n",
    ").to(device)\n",
    "\n",
    "# ---- Optimizer ----\n",
    "optimizer = torch.optim.Adam(model.parameters(), lr=1e-4, weight_decay=1e-2)\n",
    "\n"
   ]
  },
  {
   "cell_type": "code",
   "execution_count": 7,
   "id": "7784ee8b-ba96-4447-bc82-70c506fdcce1",
   "metadata": {},
   "outputs": [
    {
     "name": "stderr",
     "output_type": "stream",
     "text": [
      "/tmp/ipykernel_161966/2723096322.py:6: FutureWarning: `torch.cuda.amp.GradScaler(args...)` is deprecated. Please use `torch.amp.GradScaler('cuda', args...)` instead.\n",
      "  scaler = torch.cuda.amp.GradScaler()\n"
     ]
    },
    {
     "name": "stdout",
     "output_type": "stream",
     "text": [
      "\n",
      " Epoch 1\n"
     ]
    },
    {
     "name": "stderr",
     "output_type": "stream",
     "text": [
      "Epoch 1: 100%|████████████████████████████████████████████████████████████████| 5000/5000 [00:41<00:00, 120.80batch/s]\n",
      "Validating: 100%|████████████████████████████████████████████████████████████████| 1231/1231 [00:03<00:00, 339.83it/s]\n"
     ]
    },
    {
     "name": "stdout",
     "output_type": "stream",
     "text": [
      " Train Loss: 0.0241 | Val Loss: 3.2866 | Val Perplexity: 26.75\n",
      "\n",
      " Epoch 2\n"
     ]
    },
    {
     "name": "stderr",
     "output_type": "stream",
     "text": [
      "Epoch 1: 100%|████████████████████████████████████████████████████████████████| 5000/5000 [00:39<00:00, 125.18batch/s]\n",
      "Validating: 100%|████████████████████████████████████████████████████████████████| 1231/1231 [00:03<00:00, 347.93it/s]\n"
     ]
    },
    {
     "name": "stdout",
     "output_type": "stream",
     "text": [
      " Train Loss: 0.0211 | Val Loss: 3.1833 | Val Perplexity: 24.13\n",
      "\n",
      " Epoch 3\n"
     ]
    },
    {
     "name": "stderr",
     "output_type": "stream",
     "text": [
      "Epoch 1: 100%|████████████████████████████████████████████████████████████████| 5000/5000 [00:39<00:00, 126.14batch/s]\n",
      "Validating: 100%|████████████████████████████████████████████████████████████████| 1231/1231 [00:03<00:00, 347.82it/s]\n"
     ]
    },
    {
     "name": "stdout",
     "output_type": "stream",
     "text": [
      " Train Loss: 0.0208 | Val Loss: 3.1753 | Val Perplexity: 23.93\n",
      "\n",
      " Epoch 4\n"
     ]
    },
    {
     "name": "stderr",
     "output_type": "stream",
     "text": [
      "Epoch 1: 100%|████████████████████████████████████████████████████████████████| 5000/5000 [00:39<00:00, 126.17batch/s]\n",
      "Validating: 100%|████████████████████████████████████████████████████████████████| 1231/1231 [00:03<00:00, 347.89it/s]\n"
     ]
    },
    {
     "name": "stdout",
     "output_type": "stream",
     "text": [
      " Train Loss: 0.0207 | Val Loss: 3.1417 | Val Perplexity: 23.14\n",
      "\n",
      " Epoch 5\n"
     ]
    },
    {
     "name": "stderr",
     "output_type": "stream",
     "text": [
      "Epoch 1: 100%|████████████████████████████████████████████████████████████████| 5000/5000 [00:41<00:00, 121.00batch/s]\n",
      "Validating: 100%|████████████████████████████████████████████████████████████████| 1231/1231 [00:03<00:00, 348.13it/s]\n"
     ]
    },
    {
     "name": "stdout",
     "output_type": "stream",
     "text": [
      " Train Loss: 0.0204 | Val Loss: 3.0611 | Val Perplexity: 21.35\n",
      "\n",
      " Epoch 6\n"
     ]
    },
    {
     "name": "stderr",
     "output_type": "stream",
     "text": [
      "Epoch 1: 100%|████████████████████████████████████████████████████████████████| 5000/5000 [00:40<00:00, 123.88batch/s]\n",
      "Validating: 100%|████████████████████████████████████████████████████████████████| 1231/1231 [00:03<00:00, 347.65it/s]\n"
     ]
    },
    {
     "name": "stdout",
     "output_type": "stream",
     "text": [
      " Train Loss: 0.0200 | Val Loss: 2.9708 | Val Perplexity: 19.51\n",
      "\n",
      " Epoch 7\n"
     ]
    },
    {
     "name": "stderr",
     "output_type": "stream",
     "text": [
      "Epoch 1: 100%|████████████████████████████████████████████████████████████████| 5000/5000 [00:39<00:00, 126.20batch/s]\n",
      "Validating: 100%|████████████████████████████████████████████████████████████████| 1231/1231 [00:03<00:00, 346.83it/s]\n"
     ]
    },
    {
     "name": "stdout",
     "output_type": "stream",
     "text": [
      " Train Loss: 0.0197 | Val Loss: 2.9405 | Val Perplexity: 18.93\n",
      "\n",
      " Epoch 8\n"
     ]
    },
    {
     "name": "stderr",
     "output_type": "stream",
     "text": [
      "Epoch 1: 100%|████████████████████████████████████████████████████████████████| 5000/5000 [00:41<00:00, 119.76batch/s]\n",
      "Validating: 100%|████████████████████████████████████████████████████████████████| 1231/1231 [00:03<00:00, 347.83it/s]\n"
     ]
    },
    {
     "name": "stdout",
     "output_type": "stream",
     "text": [
      " Train Loss: 0.0199 | Val Loss: 3.0098 | Val Perplexity: 20.28\n",
      "\n",
      " Epoch 9\n"
     ]
    },
    {
     "name": "stderr",
     "output_type": "stream",
     "text": [
      "Epoch 1: 100%|████████████████████████████████████████████████████████████████| 5000/5000 [00:40<00:00, 122.92batch/s]\n",
      "Validating: 100%|████████████████████████████████████████████████████████████████| 1231/1231 [00:03<00:00, 355.97it/s]\n"
     ]
    },
    {
     "name": "stdout",
     "output_type": "stream",
     "text": [
      " Train Loss: 0.0210 | Val Loss: 3.2472 | Val Perplexity: 25.72\n",
      "\n",
      " Epoch 10\n"
     ]
    },
    {
     "name": "stderr",
     "output_type": "stream",
     "text": [
      "Epoch 1: 100%|████████████████████████████████████████████████████████████████| 5000/5000 [00:40<00:00, 124.23batch/s]\n",
      "Validating: 100%|████████████████████████████████████████████████████████████████| 1231/1231 [00:03<00:00, 354.14it/s]"
     ]
    },
    {
     "name": "stdout",
     "output_type": "stream",
     "text": [
      " Train Loss: 0.0235 | Val Loss: 3.7617 | Val Perplexity: 43.02\n",
      " Early stopping triggered.\n"
     ]
    },
    {
     "name": "stderr",
     "output_type": "stream",
     "text": [
      "\n"
     ]
    }
   ],
   "source": [
    "# ---- Early-Stopping Training Loop ----\n",
    "train_losses = []\n",
    "val_losses = []\n",
    "val_perplexities = []\n",
    "\n",
    "best_val_loss = float('inf')\n",
    "patience = 3\n",
    "early_stop_counter = 0\n",
    "max_epochs = 10\n",
    "\n",
    "for epoch in range(max_epochs):\n",
    "    print(f\"\\n Epoch {epoch+1}\")\n",
    "    \n",
    "    train_loss = train_dense(\n",
    "        model,\n",
    "        train_loader,\n",
    "        optimizer,\n",
    "        device,\n",
    "        num_epochs=1,\n",
    "        grad_accum_steps=4,\n",
    "        max_batches=5000\n",
    "    )[0]\n",
    "\n",
    "    val_loss, val_ppl, _ = validate_dense(\n",
    "        model,\n",
    "        val_loader,\n",
    "        device,\n",
    "        max_batches=5000\n",
    "    )\n",
    "\n",
    "    train_losses.append(train_loss)\n",
    "    val_losses.append(val_loss)\n",
    "    val_perplexities.append(val_ppl)\n",
    "\n",
    "    print(f\" Train Loss: {train_loss:.4f} | Val Loss: {val_loss:.4f} | Val Perplexity: {val_ppl:.2f}\")\n",
    "\n",
    "    if val_loss < best_val_loss:\n",
    "        best_val_loss = val_loss\n",
    "        early_stop_counter = 0\n",
    "\n",
    "    else:\n",
    "        early_stop_counter += 1\n",
    "        if early_stop_counter >= patience:\n",
    "            print(\" Early stopping triggered.\")\n",
    "            break\n"
   ]
  },
  {
   "cell_type": "code",
   "execution_count": 9,
   "id": "0c8541df-b2cc-4997-a0ef-6fcdbd56fbb0",
   "metadata": {},
   "outputs": [
    {
     "data": {
      "image/png": "[encoded data removed]",
      "text/plain": [
       "<Figure size 800x500 with 1 Axes>"
      ]
     },
     "metadata": {},
     "output_type": "display_data"
    },
    {
     "data": {
      "image/png": "[encoded data removed]",
      "text/plain": [
       "<Figure size 800x500 with 1 Axes>"
      ]
     },
     "metadata": {},
     "output_type": "display_data"
    }
   ],
   "source": [
    "# Plot Loss\n",
    "plt.figure(figsize=(8, 5))\n",
    "plt.plot(range(1, len(train_losses)+1), train_losses, marker='o', label=\"Train Loss\")\n",
    "plt.plot(range(1, len(val_losses)+1), val_losses, marker='o', label=\"Val Loss\")\n",
    "plt.title(\"Epoch Loss — c4\")\n",
    "plt.xlabel(\"Epoch\")\n",
    "plt.ylabel(\"Loss\")\n",
    "plt.legend()\n",
    "plt.grid(True)\n",
    "plt.tight_layout()\n",
    "plt.show()\n",
    "\n",
    "# Plot Perplexity\n",
    "plt.figure(figsize=(8, 5))\n",
    "plt.plot(range(1, len(val_perplexities)+1), val_perplexities, marker='o', color='purple', label=\"Val Perplexity\")\n",
    "plt.title(\"Epoch Perplexity — c4\")\n",
    "plt.xlabel(\"Epoch\")\n",
    "plt.ylabel(\"Perplexity\")\n",
    "plt.legend()\n",
    "plt.grid(True)\n",
    "plt.tight_layout()\n",
    "plt.show()"
   ]
  },
  {
   "cell_type": "code",
   "execution_count": null,
   "id": "c0e7d148-70a2-4b01-b61a-4ca2f4982589",
   "metadata": {},
   "outputs": [],
   "source": []
  },
  {
   "cell_type": "code",
   "execution_count": null,
   "id": "b14e99f1-c72e-44fa-8999-e005e8f633d7",
   "metadata": {},
   "outputs": [],
   "source": []
  },
  {
   "cell_type": "code",
   "execution_count": null,
   "id": "caccb1ae-d2a8-4c6b-a4d7-8f504d05b7c5",
   "metadata": {},
   "outputs": [],
   "source": []
  },
  {
   "cell_type": "code",
   "execution_count": null,
   "id": "f0e1a4cb-62d8-4559-b747-e6d17593b755",
   "metadata": {},
   "outputs": [],
   "source": []
  },
  {
   "cell_type": "code",
   "execution_count": null,
   "id": "d318cf10-7eda-41bd-a1f0-36fefc3f5082",
   "metadata": {},
   "outputs": [],
   "source": []
  },
  {
   "cell_type": "code",
   "execution_count": null,
   "id": "cda1f0c8-80b3-4c6d-af50-a12a6fc40844",
   "metadata": {},
   "outputs": [],
   "source": []
  },
  {
   "cell_type": "code",
   "execution_count": null,
   "id": "b1209ea8-10f9-4f1b-8e55-45783912eff5",
   "metadata": {},
   "outputs": [],
   "source": []
  }
 ],
 "metadata": {
  "kernelspec": {
   "display_name": "Python 3.10 (py310torch)",
   "language": "python",
   "name": "py310torch"
  },
  "language_info": {
   "codemirror_mode": {
    "name": "ipython",
    "version": 3
   },
   "file_extension": ".py",
   "mimetype": "text/x-python",
   "name": "python",
   "nbconvert_exporter": "python",
   "pygments_lexer": "ipython3",
   "version": "3.10.16"
  }
 },
 "nbformat": 4,
 "nbformat_minor": 5
}
